{
 "cells": [
  {
   "cell_type": "code",
   "execution_count": 66,
   "id": "6696c8a7",
   "metadata": {},
   "outputs": [],
   "source": [
    "from selenium import webdriver\n",
    "from selenium.webdriver.common.by import By\n",
    "import pandas as pd "
   ]
  },
  {
   "cell_type": "code",
   "execution_count": 67,
   "id": "cf9d3753",
   "metadata": {},
   "outputs": [],
   "source": [
    "driver = webdriver.Chrome()"
   ]
  },
  {
   "cell_type": "code",
   "execution_count": 68,
   "id": "afad207e",
   "metadata": {},
   "outputs": [],
   "source": [
    "driver.get(' https://www.amazon.in/gp/bestsellers/books/ ')"
   ]
  },
  {
   "cell_type": "code",
   "execution_count": 69,
   "id": "771ac2a2",
   "metadata": {},
   "outputs": [],
   "source": [
    "titles_data = []"
   ]
  },
  {
   "cell_type": "code",
   "execution_count": 70,
   "id": "af009ac3",
   "metadata": {},
   "outputs": [
    {
     "name": "stdout",
     "output_type": "stream",
     "text": [
      "EN\n",
      "Why Bharat Matters\n",
      "Atomic Habits\n",
      "The Psychology Of Money\n",
      "Don't Believe Everything You Think (English)\n",
      "The Power of Your Subconscious Mind: Original Edition | Premium Paperback\n",
      "Rupesh Thakur Prasad Panchang 2024 /Thakur Prasad Medium Colorful Hindi Panchang Calendar 2024\n",
      "RUPESH\n",
      "My First Library: Boxset of 10 Board Books for Kids\n",
      "Educart CBSE Class 10 Final Revision Book for 2024 - Maths + Science + SST + English (Includes Additional Sample Papers for 2023-24)\n",
      "All Religions Are Not The Same\n",
      "The Art of Laziness: Overcome Procrastination & Improve Your Productivity\n",
      "Shrimad Bhagwat Geeta Yatharoop\n",
      "Ikigai\n",
      "MINtile Sank Magic Practice Copybook, (4 Book + 10 Refill) Number Tracing Book for Preschoolers with Pen, Magic Calligraphy Copybook Set Practical Reusable Writing Tool Simple Hand Lettering\n",
      "Sank Magic\n",
      "Nenu (Atmakatha in Telugu)\n",
      "Brahmanandam\n",
      "MATHS SSC GD WARRIOR by ADITYARANJAN SIR\n",
      "Aditya Ranjan\n",
      "Do It Today: Overcome procrastination, improve productivity and achieve more meaningful things [Paperback] Foroux, Darius\n",
      "33 Days Challenge CBSE Class 10 Final Revision Book Pack of 3 Mathematics Standard Science Social Science for 2024 Board Exam (Includes Sample Papers) by Padhle Akshay\n",
      "Akshay Kumar\n",
      "Taxmann’s New Criminal Laws Combo – Bharatiya Nyaya Sanhita 2023 (BNS) | Bharatiya Nagarik Suraksha Sanhita 2023 (BNSS) | Bharatiya Sakshya Adhiniyam 2023 (BSA) | 3 Books Set\n",
      "My First Book of Patterns Pencil Control: Patterns Practice book for kids (Pattern Writing)\n",
      "Oswaal CBSE Sample Question Papers Class 10 Science Book (For Board Exams 2024) | 2023-24\n",
      "Oswaal Editorial Board\n",
      "Tuesdays With Morrie: An old man, a young man, and life's greatest lesson [Paperback] Albom, Mitch\n",
      "201 Brain Booster Activity Book - Fun Activities and Exercises For Children: Tracing & Pattern, Colors & Shapes, Maze\n",
      "The Power of Your Subconscious Mind\n",
      "THE SILENT PATIENT [Paperback] Michaelides, Alex\n",
      "Colouring Books Boxset: Pack of 12 Copy Colour Books For Children\n",
      "Bhavishya Malika Puran / भविष्य मालिका पुराण: 2032 से सत्य युग की शुरुआत... / 2032 se Satya Yug ki Shuruaat...\n",
      "Pandit Shri Kashinath Mishr Ji\n",
      "Rich Dad Poor Dad: 25th Anniversary Edit\n",
      "UP Constable MATHS by Aditya Ranjan Sir\n",
      "Aditya Ranjan\n",
      "THE 48 LAWS OF POWER\n",
      "How to Win Friends and Influence People : Original Edition | Premium Paperback\n",
      "\n",
      "English\n"
     ]
    }
   ],
   "source": [
    "titles = driver.find_elements(By.XPATH,'//span/div')\n",
    "for title in titles:\n",
    "    print(title.text)\n",
    "    titles_data.append(title.text)"
   ]
  },
  {
   "cell_type": "code",
   "execution_count": 71,
   "id": "f40727a3",
   "metadata": {},
   "outputs": [],
   "source": [
    "titles_df = pd.DataFrame(titles_data)\n",
    "titles_CSV = titles_df.to_csv('titles.csv' ,header= False , index=False)"
   ]
  },
  {
   "cell_type": "code",
   "execution_count": 72,
   "id": "3dad2df8",
   "metadata": {},
   "outputs": [],
   "source": [
    "prices_data = []"
   ]
  },
  {
   "cell_type": "code",
   "execution_count": 73,
   "id": "31548b10",
   "metadata": {},
   "outputs": [
    {
     "name": "stdout",
     "output_type": "stream",
     "text": [
      "\n",
      "₹560.00\n",
      "₹540.00\n",
      "₹275.00\n",
      "₹187.00\n",
      "₹115.00\n",
      "₹70.00\n",
      "₹399.00\n",
      "₹449.00\n",
      "₹358.00\n",
      "₹189.00\n",
      "₹240.00\n",
      "₹346.00\n",
      "₹120.00\n",
      "₹159.00\n",
      "₹144.00\n",
      "₹709.00\n",
      "₹630.00\n",
      "₹89.00\n",
      "₹303.00\n",
      "₹192.00\n",
      "₹99.00\n",
      "₹99.00\n",
      "₹206.00\n",
      "₹329.00\n",
      "₹212.00\n",
      "₹435.00\n",
      "₹145.00\n",
      "₹628.00\n",
      "₹99.00\n",
      "\n",
      "\n"
     ]
    }
   ],
   "source": [
    "prices = driver.find_elements(By.XPATH,'//div/span/span')\n",
    "for price in prices:\n",
    "    print(price.text)\n",
    "    prices_data.append(price.text)"
   ]
  },
  {
   "cell_type": "code",
   "execution_count": 74,
   "id": "87dc6443",
   "metadata": {},
   "outputs": [],
   "source": [
    "prices_csv = pd.DataFrame(prices_data).to_csv('prices.csv' , header=False , index=False)"
   ]
  },
  {
   "cell_type": "code",
   "execution_count": 75,
   "id": "587efab6",
   "metadata": {},
   "outputs": [],
   "source": [
    "prices_df = pd.DataFrame(prices_data)"
   ]
  },
  {
   "cell_type": "code",
   "execution_count": 76,
   "id": "abf22b41",
   "metadata": {},
   "outputs": [],
   "source": [
    "book_data = [titles_df , prices_df]"
   ]
  },
  {
   "cell_type": "code",
   "execution_count": 77,
   "id": "f157c47e",
   "metadata": {},
   "outputs": [],
   "source": [
    "res = pd.concat(book_data , axis = 1)"
   ]
  },
  {
   "cell_type": "code",
   "execution_count": 78,
   "id": "243216aa",
   "metadata": {},
   "outputs": [],
   "source": [
    "re_csv = res.to_csv('book_data.csv' , header= False , index=False)"
   ]
  },
  {
   "cell_type": "code",
   "execution_count": 79,
   "id": "5eb65739",
   "metadata": {},
   "outputs": [],
   "source": [
    "driver.get('https://www.boxofficemojo.com/chart/top_lifetime_gross/?area=XWW')"
   ]
  },
  {
   "cell_type": "code",
   "execution_count": 80,
   "id": "30e5bde9",
   "metadata": {},
   "outputs": [],
   "source": [
    "rank = driver.find_elements(By.XPATH ,'//tr/td[@class =\\'a-text-right mojo-header-column mojo-truncate mojo-field-type-rank\\']')\n",
    "rank_list = []\n",
    "for item in rank:\n",
    "    rank_list.append(item.text)"
   ]
  },
  {
   "cell_type": "code",
   "execution_count": 81,
   "id": "e17fc29b",
   "metadata": {},
   "outputs": [],
   "source": [
    "title =driver.find_elements(By.XPATH,'//tr/td[@class =\\'a-text-left mojo-field-type-title\\']/a')\n",
    "title_list = []\n",
    "for item in title:\n",
    "    title_list.append(item.text)"
   ]
  },
  {
   "cell_type": "code",
   "execution_count": 82,
   "id": "4210b175",
   "metadata": {},
   "outputs": [],
   "source": [
    "lifetime = driver.find_elements(By.XPATH,'//tr/td[@class =\\'a-text-right mojo-field-type-money\\']')\n",
    "lifetime_list = []\n",
    "for item in lifetime:\n",
    "    lifetime_list.append(item.text)"
   ]
  },
  {
   "cell_type": "code",
   "execution_count": 83,
   "id": "957578cf",
   "metadata": {},
   "outputs": [],
   "source": [
    "year = driver.find_elements(By.XPATH,'//tr/td[@class =\\'a-text-left mojo-field-type-year\\']/a')\n",
    "year_list = []\n",
    "for item in year:\n",
    "    year_list.append(item.text)"
   ]
  },
  {
   "cell_type": "code",
   "execution_count": 84,
   "id": "4dce02b2",
   "metadata": {},
   "outputs": [],
   "source": [
    "all_data = {'rank': rank_list, 'title':title_list ,'lifetime Growth':lifetime_list,'year':year_list}\n",
    "all_dataframe = pd.DataFrame(all_data)"
   ]
  },
  {
   "cell_type": "code",
   "execution_count": 85,
   "id": "e5f259ef",
   "metadata": {},
   "outputs": [
    {
     "data": {
      "text/html": [
       "<div>\n",
       "<style scoped>\n",
       "    .dataframe tbody tr th:only-of-type {\n",
       "        vertical-align: middle;\n",
       "    }\n",
       "\n",
       "    .dataframe tbody tr th {\n",
       "        vertical-align: top;\n",
       "    }\n",
       "\n",
       "    .dataframe thead th {\n",
       "        text-align: right;\n",
       "    }\n",
       "</style>\n",
       "<table border=\"1\" class=\"dataframe\">\n",
       "  <thead>\n",
       "    <tr style=\"text-align: right;\">\n",
       "      <th></th>\n",
       "      <th>rank</th>\n",
       "      <th>title</th>\n",
       "      <th>lifetime Growth</th>\n",
       "      <th>year</th>\n",
       "    </tr>\n",
       "  </thead>\n",
       "  <tbody>\n",
       "    <tr>\n",
       "      <th>0</th>\n",
       "      <td>1</td>\n",
       "      <td>Avatar</td>\n",
       "      <td>$2,923,706,026</td>\n",
       "      <td>2009</td>\n",
       "    </tr>\n",
       "    <tr>\n",
       "      <th>1</th>\n",
       "      <td>2</td>\n",
       "      <td>Avengers: Endgame</td>\n",
       "      <td>$2,799,439,100</td>\n",
       "      <td>2019</td>\n",
       "    </tr>\n",
       "    <tr>\n",
       "      <th>2</th>\n",
       "      <td>3</td>\n",
       "      <td>Avatar: The Way of Water</td>\n",
       "      <td>$2,320,250,281</td>\n",
       "      <td>2022</td>\n",
       "    </tr>\n",
       "    <tr>\n",
       "      <th>3</th>\n",
       "      <td>4</td>\n",
       "      <td>Titanic</td>\n",
       "      <td>$2,264,743,305</td>\n",
       "      <td>1997</td>\n",
       "    </tr>\n",
       "    <tr>\n",
       "      <th>4</th>\n",
       "      <td>5</td>\n",
       "      <td>Star Wars: Episode VII - The Force Awakens</td>\n",
       "      <td>$2,071,310,218</td>\n",
       "      <td>2015</td>\n",
       "    </tr>\n",
       "  </tbody>\n",
       "</table>\n",
       "</div>"
      ],
      "text/plain": [
       "  rank                                       title lifetime Growth  year\n",
       "0    1                                      Avatar  $2,923,706,026  2009\n",
       "1    2                           Avengers: Endgame  $2,799,439,100  2019\n",
       "2    3                    Avatar: The Way of Water  $2,320,250,281  2022\n",
       "3    4                                     Titanic  $2,264,743,305  1997\n",
       "4    5  Star Wars: Episode VII - The Force Awakens  $2,071,310,218  2015"
      ]
     },
     "execution_count": 85,
     "metadata": {},
     "output_type": "execute_result"
    }
   ],
   "source": [
    "all_dataframe.head()"
   ]
  },
  {
   "cell_type": "code",
   "execution_count": 86,
   "id": "a690d1da",
   "metadata": {},
   "outputs": [],
   "source": [
    "all_Data_csv = all_dataframe.to_csv('All_data.csv' , header = False , index = False) "
   ]
  },
  {
   "cell_type": "code",
   "execution_count": null,
   "id": "2aef53e0",
   "metadata": {},
   "outputs": [],
   "source": []
  }
 ],
 "metadata": {
  "kernelspec": {
   "display_name": "Python 3 (ipykernel)",
   "language": "python",
   "name": "python3"
  },
  "language_info": {
   "codemirror_mode": {
    "name": "ipython",
    "version": 3
   },
   "file_extension": ".py",
   "mimetype": "text/x-python",
   "name": "python",
   "nbconvert_exporter": "python",
   "pygments_lexer": "ipython3",
   "version": "3.11.5"
  }
 },
 "nbformat": 4,
 "nbformat_minor": 5
}
